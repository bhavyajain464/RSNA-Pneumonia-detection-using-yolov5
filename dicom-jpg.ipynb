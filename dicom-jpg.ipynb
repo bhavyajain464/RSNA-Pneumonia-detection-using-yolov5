{
 "cells": [
  {
   "cell_type": "code",
   "execution_count": 2,
   "metadata": {},
   "outputs": [
    {
     "name": "stdout",
     "output_type": "stream",
     "text": [
      "Requirement already satisfied: pydicom in /home/bhavya/my_project_dir/my_project_env/lib/python3.8/site-packages (2.0.0)\n",
      "Requirement already satisfied: pillow in /home/bhavya/my_project_dir/my_project_env/lib/python3.8/site-packages (8.0.1)\n",
      "Collecting opencv-python\n",
      "  Using cached opencv_python-4.4.0.44-cp38-cp38-manylinux2014_x86_64.whl (49.5 MB)\n",
      "Requirement already satisfied: numpy>=1.17.3 in /home/bhavya/my_project_dir/my_project_env/lib/python3.8/site-packages (from opencv-python) (1.18.5)\n",
      "Installing collected packages: opencv-python\n",
      "Successfully installed opencv-python-4.4.0.44\n"
     ]
    }
   ],
   "source": [
    "!pip install pydicom\n",
    "!pip install pillow\n",
    "!pip install opencv-python\n",
    "import pydicom\n",
    "from tqdm import tqdm\n",
    "import os\n",
    "import numpy as np\n",
    "import cv2"
   ]
  },
  {
   "cell_type": "code",
   "execution_count": 3,
   "metadata": {},
   "outputs": [
    {
     "data": {
      "text/plain": [
       "'/home/bhavya/Downloads/rsna-pneumonia-detection-challenge'"
      ]
     },
     "execution_count": 3,
     "metadata": {},
     "output_type": "execute_result"
    }
   ],
   "source": [
    "os.getcwd()"
   ]
  },
  {
   "cell_type": "code",
   "execution_count": 11,
   "metadata": {},
   "outputs": [
    {
     "name": "stderr",
     "output_type": "stream",
     "text": [
      "100%|██████████| 3000/3000 [00:00<00:00, 779513.81it/s]\n"
     ]
    }
   ],
   "source": [
    "for filename in sorted(tqdm(os.listdir(\"stage_2_test_images\"))):\n",
    "    array = pydicom.dcmread(os.path.join(\"stage_2_test_images\",filename)).pixel_array\n",
    "    image = np.repeat(array[:,:,np.newaxis],3,2)\n",
    "#     print(array[0][0])\n",
    "#     print(filename[:len(filename)-4])\n",
    "    cv2.imwrite(os.path.join(\"Test\",filename[:len(filename)-4]+\".jpg\"),image)\n",
    "#     break;"
   ]
  },
  {
   "cell_type": "code",
   "execution_count": null,
   "metadata": {},
   "outputs": [],
   "source": []
  }
 ],
 "metadata": {
  "kernelspec": {
   "display_name": "Python 3",
   "language": "python",
   "name": "python3"
  },
  "language_info": {
   "codemirror_mode": {
    "name": "ipython",
    "version": 3
   },
   "file_extension": ".py",
   "mimetype": "text/x-python",
   "name": "python",
   "nbconvert_exporter": "python",
   "pygments_lexer": "ipython3",
   "version": "3.8.5"
  }
 },
 "nbformat": 4,
 "nbformat_minor": 4
}
