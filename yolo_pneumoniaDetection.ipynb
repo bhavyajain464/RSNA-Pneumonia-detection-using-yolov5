{
 "cells": [
  {
   "cell_type": "code",
   "execution_count": 1,
   "metadata": {
    "colab": {
     "base_uri": "https://localhost:8080/"
    },
    "id": "IPsRmwSpLEKA",
    "outputId": "253bda52-230f-4589-822b-3aa19aed5852"
   },
   "outputs": [],
   "source": [
    "import os"
   ]
  },
  {
   "cell_type": "code",
   "execution_count": 2,
   "metadata": {
    "colab": {
     "base_uri": "https://localhost:8080/"
    },
    "id": "2Zf4Or_yxw0v",
    "outputId": "f3785957-d432-4a8b-fdde-c99fe3796c98"
   },
   "outputs": [
    {
     "name": "stdout",
     "output_type": "stream",
     "text": [
      "fatal: destination path 'yolov5' already exists and is not an empty directory.\r\n"
     ]
    }
   ],
   "source": [
    "! git clone https://github.com/ultralytics/yolov5.git"
   ]
  },
  {
   "cell_type": "code",
   "execution_count": 3,
   "metadata": {
    "id": "jldAB0Fhx_Ma"
   },
   "outputs": [],
   "source": [
    "!cp \"Pneumonia.yaml\" \"yolov5/\"\n",
    "!cp \"yolov5sp.yaml\" \"yolov5/models/\"\n",
    "os.chdir(\"yolov5\")\n",
    "!rm -rf pneumonia_data\n",
    "!mkdir pneumonia_data\n",
    "os.chdir(\"pneumonia_data\")\n",
    "!mkdir images\n",
    "!mkdir labels\n",
    "os.chdir(\"images\")\n",
    "!mkdir train\n",
    "!mkdir validation\n",
    "!mkdir test\n",
    "os.chdir(os.pardir)\n",
    "os.chdir(\"labels\")\n",
    "!mkdir train\n",
    "!mkdir validation\n",
    "!mkdir test\n",
    "os.chdir(os.pardir)\n",
    "os.chdir(os.pardir)"
   ]
  },
  {
   "cell_type": "code",
   "execution_count": 4,
   "metadata": {
    "colab": {
     "base_uri": "https://localhost:8080/"
    },
    "id": "FWdJum-cyNrp",
    "outputId": "f48babaa-e7e4-436b-890d-35839f6d62a1"
   },
   "outputs": [
    {
     "name": "stdout",
     "output_type": "stream",
     "text": [
      "Requirement already satisfied: Cython in /home/bhavya/my_project_dir/my_project_env/lib/python3.8/site-packages (from -r requirements.txt (line 4)) (0.29.21)\n",
      "Requirement already satisfied: matplotlib>=3.2.2 in /home/bhavya/my_project_dir/my_project_env/lib/python3.8/site-packages (from -r requirements.txt (line 5)) (3.3.2)\n",
      "Requirement already satisfied: numpy>=1.18.5 in /home/bhavya/my_project_dir/my_project_env/lib/python3.8/site-packages (from -r requirements.txt (line 6)) (1.18.5)\n",
      "Requirement already satisfied: opencv-python>=4.1.2 in /home/bhavya/my_project_dir/my_project_env/lib/python3.8/site-packages (from -r requirements.txt (line 7)) (4.4.0.44)\n",
      "Requirement already satisfied: Pillow in /home/bhavya/my_project_dir/my_project_env/lib/python3.8/site-packages (from -r requirements.txt (line 8)) (8.0.1)\n",
      "Requirement already satisfied: PyYAML>=5.3 in /home/bhavya/my_project_dir/my_project_env/lib/python3.8/site-packages (from -r requirements.txt (line 9)) (5.3.1)\n",
      "Requirement already satisfied: scipy>=1.4.1 in /home/bhavya/my_project_dir/my_project_env/lib/python3.8/site-packages (from -r requirements.txt (line 10)) (1.5.3)\n",
      "Requirement already satisfied: tensorboard>=2.2 in /home/bhavya/my_project_dir/my_project_env/lib/python3.8/site-packages (from -r requirements.txt (line 11)) (2.3.0)\n",
      "Requirement already satisfied: torch>=1.6.0 in /home/bhavya/my_project_dir/my_project_env/lib/python3.8/site-packages (from -r requirements.txt (line 12)) (1.7.0)\n",
      "Requirement already satisfied: torchvision>=0.7.0 in /home/bhavya/my_project_dir/my_project_env/lib/python3.8/site-packages (from -r requirements.txt (line 13)) (0.8.1)\n",
      "Requirement already satisfied: tqdm>=4.41.0 in /home/bhavya/my_project_dir/my_project_env/lib/python3.8/site-packages (from -r requirements.txt (line 14)) (4.51.0)\n",
      "Requirement already satisfied: pyparsing!=2.0.4,!=2.1.2,!=2.1.6,>=2.0.3 in /home/bhavya/my_project_dir/my_project_env/lib/python3.8/site-packages (from matplotlib>=3.2.2->-r requirements.txt (line 5)) (2.4.7)\n",
      "Requirement already satisfied: kiwisolver>=1.0.1 in /home/bhavya/my_project_dir/my_project_env/lib/python3.8/site-packages (from matplotlib>=3.2.2->-r requirements.txt (line 5)) (1.2.0)\n",
      "Requirement already satisfied: python-dateutil>=2.1 in /home/bhavya/my_project_dir/my_project_env/lib/python3.8/site-packages (from matplotlib>=3.2.2->-r requirements.txt (line 5)) (2.8.1)\n",
      "Requirement already satisfied: certifi>=2020.06.20 in /home/bhavya/my_project_dir/my_project_env/lib/python3.8/site-packages (from matplotlib>=3.2.2->-r requirements.txt (line 5)) (2020.6.20)\n",
      "Requirement already satisfied: cycler>=0.10 in /home/bhavya/my_project_dir/my_project_env/lib/python3.8/site-packages (from matplotlib>=3.2.2->-r requirements.txt (line 5)) (0.10.0)\n",
      "Requirement already satisfied: protobuf>=3.6.0 in /home/bhavya/my_project_dir/my_project_env/lib/python3.8/site-packages (from tensorboard>=2.2->-r requirements.txt (line 11)) (3.13.0)\n",
      "Requirement already satisfied: werkzeug>=0.11.15 in /home/bhavya/my_project_dir/my_project_env/lib/python3.8/site-packages (from tensorboard>=2.2->-r requirements.txt (line 11)) (1.0.1)\n",
      "Requirement already satisfied: absl-py>=0.4 in /home/bhavya/my_project_dir/my_project_env/lib/python3.8/site-packages (from tensorboard>=2.2->-r requirements.txt (line 11)) (0.11.0)\n",
      "Requirement already satisfied: wheel>=0.26; python_version >= \"3\" in /home/bhavya/my_project_dir/my_project_env/lib/python3.8/site-packages (from tensorboard>=2.2->-r requirements.txt (line 11)) (0.35.1)\n",
      "Requirement already satisfied: google-auth<2,>=1.6.3 in /home/bhavya/my_project_dir/my_project_env/lib/python3.8/site-packages (from tensorboard>=2.2->-r requirements.txt (line 11)) (1.23.0)\n",
      "Requirement already satisfied: six>=1.10.0 in /home/bhavya/my_project_dir/my_project_env/lib/python3.8/site-packages (from tensorboard>=2.2->-r requirements.txt (line 11)) (1.15.0)\n",
      "Requirement already satisfied: markdown>=2.6.8 in /home/bhavya/my_project_dir/my_project_env/lib/python3.8/site-packages (from tensorboard>=2.2->-r requirements.txt (line 11)) (3.3.3)\n",
      "Requirement already satisfied: tensorboard-plugin-wit>=1.6.0 in /home/bhavya/my_project_dir/my_project_env/lib/python3.8/site-packages (from tensorboard>=2.2->-r requirements.txt (line 11)) (1.7.0)\n",
      "Requirement already satisfied: google-auth-oauthlib<0.5,>=0.4.1 in /home/bhavya/my_project_dir/my_project_env/lib/python3.8/site-packages (from tensorboard>=2.2->-r requirements.txt (line 11)) (0.4.2)\n",
      "Requirement already satisfied: requests<3,>=2.21.0 in /home/bhavya/my_project_dir/my_project_env/lib/python3.8/site-packages (from tensorboard>=2.2->-r requirements.txt (line 11)) (2.24.0)\n",
      "Requirement already satisfied: setuptools>=41.0.0 in /home/bhavya/my_project_dir/my_project_env/lib/python3.8/site-packages (from tensorboard>=2.2->-r requirements.txt (line 11)) (50.3.1)\n",
      "Requirement already satisfied: grpcio>=1.24.3 in /home/bhavya/my_project_dir/my_project_env/lib/python3.8/site-packages (from tensorboard>=2.2->-r requirements.txt (line 11)) (1.33.2)\n",
      "Requirement already satisfied: future in /home/bhavya/my_project_dir/my_project_env/lib/python3.8/site-packages (from torch>=1.6.0->-r requirements.txt (line 12)) (0.18.2)\n",
      "Requirement already satisfied: dataclasses in /home/bhavya/my_project_dir/my_project_env/lib/python3.8/site-packages (from torch>=1.6.0->-r requirements.txt (line 12)) (0.6)\n",
      "Requirement already satisfied: typing-extensions in /home/bhavya/my_project_dir/my_project_env/lib/python3.8/site-packages (from torch>=1.6.0->-r requirements.txt (line 12)) (3.7.4.3)\n",
      "Requirement already satisfied: cachetools<5.0,>=2.0.0 in /home/bhavya/my_project_dir/my_project_env/lib/python3.8/site-packages (from google-auth<2,>=1.6.3->tensorboard>=2.2->-r requirements.txt (line 11)) (4.1.1)\n",
      "Requirement already satisfied: pyasn1-modules>=0.2.1 in /home/bhavya/my_project_dir/my_project_env/lib/python3.8/site-packages (from google-auth<2,>=1.6.3->tensorboard>=2.2->-r requirements.txt (line 11)) (0.2.8)\n",
      "Requirement already satisfied: rsa<5,>=3.1.4; python_version >= \"3.5\" in /home/bhavya/my_project_dir/my_project_env/lib/python3.8/site-packages (from google-auth<2,>=1.6.3->tensorboard>=2.2->-r requirements.txt (line 11)) (4.6)\n",
      "Requirement already satisfied: requests-oauthlib>=0.7.0 in /home/bhavya/my_project_dir/my_project_env/lib/python3.8/site-packages (from google-auth-oauthlib<0.5,>=0.4.1->tensorboard>=2.2->-r requirements.txt (line 11)) (1.3.0)\n",
      "Requirement already satisfied: idna<3,>=2.5 in /home/bhavya/my_project_dir/my_project_env/lib/python3.8/site-packages (from requests<3,>=2.21.0->tensorboard>=2.2->-r requirements.txt (line 11)) (2.10)\n",
      "Requirement already satisfied: urllib3!=1.25.0,!=1.25.1,<1.26,>=1.21.1 in /home/bhavya/my_project_dir/my_project_env/lib/python3.8/site-packages (from requests<3,>=2.21.0->tensorboard>=2.2->-r requirements.txt (line 11)) (1.25.11)\n",
      "Requirement already satisfied: chardet<4,>=3.0.2 in /home/bhavya/my_project_dir/my_project_env/lib/python3.8/site-packages (from requests<3,>=2.21.0->tensorboard>=2.2->-r requirements.txt (line 11)) (3.0.4)\n",
      "Requirement already satisfied: pyasn1<0.5.0,>=0.4.6 in /home/bhavya/my_project_dir/my_project_env/lib/python3.8/site-packages (from pyasn1-modules>=0.2.1->google-auth<2,>=1.6.3->tensorboard>=2.2->-r requirements.txt (line 11)) (0.4.8)\n",
      "Requirement already satisfied: oauthlib>=3.0.0 in /home/bhavya/my_project_dir/my_project_env/lib/python3.8/site-packages (from requests-oauthlib>=0.7.0->google-auth-oauthlib<0.5,>=0.4.1->tensorboard>=2.2->-r requirements.txt (line 11)) (3.1.0)\n"
     ]
    }
   ],
   "source": [
    "import pandas as pd\n",
    "import os\n",
    "import ast\n",
    "import shutil\n",
    "from sklearn import model_selection\n",
    "from tqdm import tqdm\n",
    "import numpy as np\n",
    "!pip install -r requirements.txt"
   ]
  },
  {
   "cell_type": "code",
   "execution_count": 5,
   "metadata": {
    "colab": {
     "base_uri": "https://localhost:8080/"
    },
    "id": "bPmQhdPn9KgL",
    "outputId": "40014072-e9b3-4f95-a840-85065c5a1d89"
   },
   "outputs": [
    {
     "name": "stdout",
     "output_type": "stream",
     "text": [
      "Requirement already up-to-date: PyYAML in /home/bhavya/my_project_dir/my_project_env/lib/python3.8/site-packages (5.3.1)\n",
      "Note: you may need to restart the kernel to use updated packages.\n"
     ]
    }
   ],
   "source": [
    "pip install -U PyYAML"
   ]
  },
  {
   "cell_type": "code",
   "execution_count": 6,
   "metadata": {
    "id": "nDDU6G5TygCW"
   },
   "outputs": [],
   "source": [
    "DATA_PATH = \"rsna-pneumonia-detection-challenge\"\n",
    "OUTPUT_PATH = \"yolov5/pneumonia_data\""
   ]
  },
  {
   "cell_type": "code",
   "execution_count": 7,
   "metadata": {
    "id": "S_tzIUY8yjN4"
   },
   "outputs": [],
   "source": [
    "def process_data(data,data_type=\"train\"):\n",
    "    for _,row in tqdm(data.iterrows(),total=len(data),position=0,leave=True):\n",
    "        image_name = row[\"patientId\"]\n",
    "        bounding_boxes = row[\"bboxes\"]\n",
    "        yolo_data = []\n",
    "        for bbox in bounding_boxes:\n",
    "            if(bbox[4]==\"0.0\"):\n",
    "              # print(\"hello\")\n",
    "              continue\n",
    "            x=float(bbox[0])\n",
    "            y=float(bbox[1])\n",
    "            w=float(bbox[2])\n",
    "            h=float(bbox[3])\n",
    "            x_center = x+w/2\n",
    "            y_center = y+h/2\n",
    "            x_center/=1024.0\n",
    "            y_center/=1024.0\n",
    "            w/=1024.0\n",
    "            h/=1024.0\n",
    "            yolo_data.append([0,x_center,y_center,w,h])\n",
    "        yolo_data = np.array(yolo_data)\n",
    "        np.savetxt(\n",
    "            os.path.join(OUTPUT_PATH,f\"labels/{data_type}/{image_name}.txt\"),\n",
    "            yolo_data,\n",
    "            fmt = [\"%d\",\"%f\",\"%f\",\"%f\",\"%f\"]\n",
    "        )\n",
    "        shutil.copyfile(\n",
    "            os.path.join(DATA_PATH,f\"train/{image_name}.jpg\"),\n",
    "            os.path.join(OUTPUT_PATH,f\"images/{data_type}/{image_name}.jpg\")\n",
    "        )"
   ]
  },
  {
   "cell_type": "code",
   "execution_count": 8,
   "metadata": {},
   "outputs": [],
   "source": [
    "os.chdir(os.pardir)"
   ]
  },
  {
   "cell_type": "code",
   "execution_count": 9,
   "metadata": {},
   "outputs": [
    {
     "data": {
      "text/plain": [
       "'/home/bhavya/Downloads/Pneumonia-detection'"
      ]
     },
     "execution_count": 9,
     "metadata": {},
     "output_type": "execute_result"
    }
   ],
   "source": [
    "os.getcwd()"
   ]
  },
  {
   "cell_type": "code",
   "execution_count": 11,
   "metadata": {
    "colab": {
     "base_uri": "https://localhost:8080/"
    },
    "id": "_H3i38Veyj6_",
    "outputId": "eda2c141-ed2f-444c-a7a0-fb57d0b244cb",
    "scrolled": true
   },
   "outputs": [
    {
     "name": "stderr",
     "output_type": "stream",
     "text": [
      "100%|██████████| 5350/5350 [00:14<00:00, 374.04it/s]\n",
      "100%|██████████| 662/662 [00:01<00:00, 347.42it/s]\n"
     ]
    }
   ],
   "source": [
    "if __name__==\"__main__\":\n",
    "    df = pd.read_csv(os.path.join(DATA_PATH,\"train.csv\"))\n",
    "#     df_test = df_full.iloc[int(0.9*len(df_full)):]\n",
    "    df = df[df['Target']==1]\n",
    "    # df.bbox = df.bbox.apply(ast.literal_eval)\n",
    "    cols = ['x', 'y', 'width','height','Target']\n",
    "    df['combined'] = df[cols].apply(lambda row: ','.join(row.values.astype(str)), axis=1)\n",
    "    df['combined'] = df.combined.apply(lambda x: x.strip('()').split(','))\n",
    "    # print(type(df['combined'].iloc[0]))\n",
    "    # print(df)\n",
    "    df = df.groupby(\"patientId\")['combined'].apply(list).reset_index(name=\"bboxes\")\n",
    "    # print(df)\n",
    "    df_train,df_valid = model_selection.train_test_split(\n",
    "        df,\n",
    "        test_size=0.11,\n",
    "        random_state=True,\n",
    "        shuffle=True,\n",
    "    )\n",
    "    df_train = df_train.reset_index(drop=True)\n",
    "    df_valid = df_valid.reset_index(drop=True)\n",
    "    # print(df_train)\n",
    "    process_data(df_train,data_type=\"train\")\n",
    "    process_data(df_valid,data_type=\"validation\")"
   ]
  },
  {
   "cell_type": "code",
   "execution_count": 16,
   "metadata": {},
   "outputs": [
    {
     "data": {
      "text/plain": [
       "'/home/bhavya/Downloads/Pneumonia-detection/yolov5'"
      ]
     },
     "execution_count": 16,
     "metadata": {},
     "output_type": "execute_result"
    }
   ],
   "source": [
    "os.chdir(\"yolov5\")\n",
    "os.getcwd()"
   ]
  },
  {
   "cell_type": "code",
   "execution_count": 19,
   "metadata": {
    "colab": {
     "base_uri": "https://localhost:8080/"
    },
    "id": "ycHDzRZWjMLF",
    "outputId": "be929b37-2cab-43ad-fa9a-1973359caa30"
   },
   "outputs": [
    {
     "name": "stdout",
     "output_type": "stream",
     "text": [
      "Using torch 1.7.0 CUDA:0 (GeForce 940MX, 2004MB)\n",
      "\n",
      "Namespace(adam=False, batch_size=8, bucket='', cache_images=False, cfg='models/yolov5sp.yaml', data='Pneumonia.yaml', device='', epochs=20, evolve=False, exist_ok=False, global_rank=-1, hyp='data/hyp.scratch.yaml', image_weights=False, img_size=[1024, 1024], local_rank=-1, log_imgs=16, multi_scale=False, name='wm', noautoanchor=False, nosave=False, notest=False, project='runs/train', rect=False, resume=False, save_dir='runs/train/wm3', single_cls=True, sync_bn=False, total_batch_size=8, weights='pre_trained.pt', workers=8, world_size=1)\n",
      "Start Tensorboard with \"tensorboard --logdir runs/train\", view at http://localhost:6006/\n",
      "2020-11-19 15:06:12.577610: W tensorflow/stream_executor/platform/default/dso_loader.cc:59] Could not load dynamic library 'libcudart.so.10.1'; dlerror: libcudart.so.10.1: cannot open shared object file: No such file or directory\n",
      "2020-11-19 15:06:12.577653: I tensorflow/stream_executor/cuda/cudart_stub.cc:29] Ignore above cudart dlerror if you do not have a GPU set up on your machine.\n",
      "Hyperparameters {'lr0': 0.01, 'lrf': 0.2, 'momentum': 0.937, 'weight_decay': 0.0005, 'warmup_epochs': 3.0, 'warmup_momentum': 0.8, 'warmup_bias_lr': 0.1, 'box': 0.05, 'cls': 0.5, 'cls_pw': 1.0, 'obj': 1.0, 'obj_pw': 1.0, 'iou_t': 0.2, 'anchor_t': 4.0, 'fl_gamma': 0.0, 'hsv_h': 0.015, 'hsv_s': 0.7, 'hsv_v': 0.4, 'degrees': 0.0, 'translate': 0.1, 'scale': 0.5, 'shear': 0.0, 'perspective': 0.0, 'flipud': 0.0, 'fliplr': 0.5, 'mosaic': 1.0, 'mixup': 0.0}\n",
      "\n",
      "                 from  n    params  module                                  arguments                     \n",
      "  0                -1  1      3520  models.common.Focus                     [3, 32, 3]                    \n",
      "  1                -1  1     18560  models.common.Conv                      [32, 64, 3, 2]                \n",
      "  2                -1  1     19904  models.common.BottleneckCSP             [64, 64, 1]                   \n",
      "  3                -1  1     73984  models.common.Conv                      [64, 128, 3, 2]               \n",
      "  4                -1  1    161152  models.common.BottleneckCSP             [128, 128, 3]                 \n",
      "  5                -1  1    295424  models.common.Conv                      [128, 256, 3, 2]              \n",
      "  6                -1  1    641792  models.common.BottleneckCSP             [256, 256, 3]                 \n",
      "  7                -1  1   1180672  models.common.Conv                      [256, 512, 3, 2]              \n",
      "  8                -1  1    656896  models.common.SPP                       [512, 512, [5, 9, 13]]        \n",
      "  9                -1  1   1248768  models.common.BottleneckCSP             [512, 512, 1, False]          \n",
      " 10                -1  1    131584  models.common.Conv                      [512, 256, 1, 1]              \n",
      " 11                -1  1         0  torch.nn.modules.upsampling.Upsample    [None, 2, 'nearest']          \n",
      " 12           [-1, 6]  1         0  models.common.Concat                    [1]                           \n",
      " 13                -1  1    378624  models.common.BottleneckCSP             [512, 256, 1, False]          \n",
      " 14                -1  1     33024  models.common.Conv                      [256, 128, 1, 1]              \n",
      " 15                -1  1         0  torch.nn.modules.upsampling.Upsample    [None, 2, 'nearest']          \n",
      " 16           [-1, 4]  1         0  models.common.Concat                    [1]                           \n",
      " 17                -1  1     95104  models.common.BottleneckCSP             [256, 128, 1, False]          \n",
      " 18                -1  1    147712  models.common.Conv                      [128, 128, 3, 2]              \n",
      " 19          [-1, 14]  1         0  models.common.Concat                    [1]                           \n",
      " 20                -1  1    313088  models.common.BottleneckCSP             [256, 256, 1, False]          \n",
      " 21                -1  1    590336  models.common.Conv                      [256, 256, 3, 2]              \n",
      " 22          [-1, 10]  1         0  models.common.Concat                    [1]                           \n",
      " 23                -1  1   1248768  models.common.BottleneckCSP             [512, 512, 1, False]          \n",
      " 24      [17, 20, 23]  1     16182  models.yolo.Detect                      [1, [[10, 13, 16, 30, 33, 23], [30, 61, 62, 45, 59, 119], [116, 90, 156, 198, 373, 326]], [128, 256, 512]]\n",
      "Model Summary: 283 layers, 7255094 parameters, 7255094 gradients\n",
      "\n",
      "Transferred 362/370 items from pre_trained.pt\n",
      "Optimizer groups: 62 .bias, 70 conv.weight, 59 other\n",
      "Scanning images: 100%|████████████████████| 5350/5350 [00:00<00:00, 8576.93it/s]\n",
      "Scanning labels pneumonia_data/labels/train.cache (5350 found, 0 missing, 0 empty, 0 duplicate, for 5350 images): 5350it [00:00, 16685.21it/s]\n",
      "Scanning images: 100%|██████████████████████| 662/662 [00:00<00:00, 5235.07it/s]\n",
      "Scanning labels pneumonia_data/labels/validation.cache (662 found, 0 missing, 0 empty, 0 duplicate, for 662 images): 662it [00:00, 15742.58it/s]\n",
      "\n",
      "Analyzing anchors... anchors/target = 3.41, Best Possible Recall (BPR) = 1.0000\n",
      "Image sizes 1024 train, 1024 test\n",
      "Using 8 dataloader workers\n",
      "Logging results to runs/train/wm3\n",
      "Starting training for 20 epochs...\n",
      "\n",
      "     Epoch   gpu_mem       box       obj       cls     total   targets  img_size\n",
      "  0%|                                                   | 0/669 [00:02<?, ?it/s]\n",
      "Traceback (most recent call last):\n",
      "  File \"train.py\", line 490, in <module>\n",
      "    train(hyp, opt, device, tb_writer, wandb)\n",
      "  File \"train.py\", line 286, in train\n",
      "    pred = model(imgs)  # forward\n",
      "  File \"/home/bhavya/my_project_dir/my_project_env/lib/python3.8/site-packages/torch/nn/modules/module.py\", line 727, in _call_impl\n",
      "    result = self.forward(*input, **kwargs)\n",
      "  File \"/home/bhavya/Downloads/Pneumonia-detection/yolov5/models/yolo.py\", line 121, in forward\n",
      "    return self.forward_once(x, profile)  # single-scale inference, train\n",
      "  File \"/home/bhavya/Downloads/Pneumonia-detection/yolov5/models/yolo.py\", line 137, in forward_once\n",
      "    x = m(x)  # run\n",
      "  File \"/home/bhavya/my_project_dir/my_project_env/lib/python3.8/site-packages/torch/nn/modules/module.py\", line 727, in _call_impl\n",
      "    result = self.forward(*input, **kwargs)\n",
      "  File \"/home/bhavya/Downloads/Pneumonia-detection/yolov5/models/common.py\", line 71, in forward\n",
      "    return self.cv4(self.act(self.bn(torch.cat((y1, y2), dim=1))))\n",
      "  File \"/home/bhavya/my_project_dir/my_project_env/lib/python3.8/site-packages/torch/nn/modules/module.py\", line 727, in _call_impl\n",
      "    result = self.forward(*input, **kwargs)\n",
      "  File \"/home/bhavya/Downloads/Pneumonia-detection/yolov5/models/common.py\", line 36, in forward\n",
      "    return self.act(self.bn(self.conv(x)))\n",
      "  File \"/home/bhavya/my_project_dir/my_project_env/lib/python3.8/site-packages/torch/nn/modules/module.py\", line 727, in _call_impl\n",
      "    result = self.forward(*input, **kwargs)\n",
      "  File \"/home/bhavya/my_project_dir/my_project_env/lib/python3.8/site-packages/torch/nn/modules/conv.py\", line 423, in forward\n",
      "    return self._conv_forward(input, self.weight)\n",
      "  File \"/home/bhavya/my_project_dir/my_project_env/lib/python3.8/site-packages/torch/nn/modules/conv.py\", line 419, in _conv_forward\n",
      "    return F.conv2d(input, weight, self.bias, self.stride,\n",
      "RuntimeError: CUDA out of memory. Tried to allocate 64.00 MiB (GPU 0; 1.96 GiB total capacity; 1.23 GiB already allocated; 14.62 MiB free; 1.25 GiB reserved in total by PyTorch)\n"
     ]
    }
   ],
   "source": [
    "!python3 train.py --img 1024 --batch 8 --epochs 20 --data Pneumonia.yaml --cfg models/yolov5sp.yaml --name wm --weights pre_trained.pt --single-cls\n"
   ]
  },
  {
   "cell_type": "code",
   "execution_count": 20,
   "metadata": {
    "colab": {
     "base_uri": "https://localhost:8080/"
    },
    "id": "rRWox3G8Y1g2",
    "outputId": "103c88a8-729c-4fb6-e01b-a225b02376df"
   },
   "outputs": [
    {
     "name": "stdout",
     "output_type": "stream",
     "text": [
      "Namespace(agnostic_nms=False, augment=False, classes=None, conf_thres=0.4, device='', exist_ok=False, img_size=640, iou_thres=0.45, name='exp', project='runs/detect', save_conf=False, save_txt=True, source='rsna-pneumonia-detection-challenge/test', update=False, view_img=False, weights=['/yolov5/runs/exp0/weights/last.pt'])\r\n",
      "Using torch 1.7.0 CUDA:0 (GeForce 940MX, 2004MB)\r\n",
      "\r\n",
      "Traceback (most recent call last):\r\n",
      "  File \"detect.py\", line 172, in <module>\r\n",
      "    detect()\r\n",
      "  File \"detect.py\", line 33, in detect\r\n",
      "    model = attempt_load(weights, map_location=device)  # load FP32 model\r\n",
      "  File \"/home/bhavya/Downloads/Pneumonia-detection/yolov5/models/experimental.py\", line 137, in attempt_load\r\n",
      "    model.append(torch.load(w, map_location=map_location)['model'].float().fuse().eval())  # load FP32 model\r\n",
      "  File \"/home/bhavya/my_project_dir/my_project_env/lib/python3.8/site-packages/torch/serialization.py\", line 581, in load\r\n",
      "    with _open_file_like(f, 'rb') as opened_file:\r\n",
      "  File \"/home/bhavya/my_project_dir/my_project_env/lib/python3.8/site-packages/torch/serialization.py\", line 230, in _open_file_like\r\n",
      "    return _open_file(name_or_buffer, mode)\r\n",
      "  File \"/home/bhavya/my_project_dir/my_project_env/lib/python3.8/site-packages/torch/serialization.py\", line 211, in __init__\r\n",
      "    super(_open_file, self).__init__(open(name, mode))\r\n",
      "FileNotFoundError: [Errno 2] No such file or directory: '/yolov5/runs/exp0/weights/last.pt'\r\n"
     ]
    }
   ],
   "source": [
    "!python detect.py --source \"rsna-pneumonia-detection-challenge/test\"  --weights \"/yolov5/runs/exp0/weights/last.pt\" --save-txt --conf 0.4"
   ]
  },
  {
   "cell_type": "code",
   "execution_count": null,
   "metadata": {},
   "outputs": [],
   "source": []
  }
 ],
 "metadata": {
  "accelerator": "GPU",
  "colab": {
   "collapsed_sections": [],
   "name": "yolo_pneumoniaDetection.ipynb",
   "provenance": []
  },
  "kernelspec": {
   "display_name": "Python 3",
   "language": "python",
   "name": "python3"
  },
  "language_info": {
   "codemirror_mode": {
    "name": "ipython",
    "version": 3
   },
   "file_extension": ".py",
   "mimetype": "text/x-python",
   "name": "python",
   "nbconvert_exporter": "python",
   "pygments_lexer": "ipython3",
   "version": "3.8.5"
  }
 },
 "nbformat": 4,
 "nbformat_minor": 1
}
